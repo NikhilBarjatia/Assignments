{
 "cells": [
  {
   "cell_type": "code",
   "execution_count": null,
   "id": "6fe7b5dd",
   "metadata": {},
   "outputs": [],
   "source": [
    "# sum of elements in a list\n",
    "n=int(input(\"enter the no. of elements you want\"))\n",
    "l=[]\n",
    "for i in range(n):\n",
    "    num=int(input(f\"enter{i+1} elements of list\"))\n",
    "    l.append(num)\n",
    "print(\"the sum of elements in list is \",sum(l))\n",
    "    "
   ]
  },
  {
   "cell_type": "markdown",
   "id": "8233cafb",
   "metadata": {},
   "source": [
    "#### multiply all the numbers in a list\n",
    "n=int(input(\"enter the no. of elements you want\"))\n",
    "l=[]\n",
    "mul=1\n",
    "for i in range(n):\n",
    "    num=int(input(f\"enter {i+1} elements of list\"))\n",
    "    l.append(num)\n",
    "    mul=mul*l[i]\n",
    "print(\"the product of all numbers is \", mul)"
   ]
  },
  {
   "cell_type": "code",
   "execution_count": null,
   "id": "42f23799",
   "metadata": {},
   "outputs": [],
   "source": [
    "# to find the smallest number\n",
    "n=int(input(\"enter the no. of elements you want\"))\n",
    "t=0\n",
    "t=n\n",
    "l=[]\n",
    "for i in range(n):\n",
    "    num=int(input(f\"enter {i+1} elements of list\"))\n",
    "    l.append(num)\n",
    "x=l[0]\n",
    "for i in range(1,t):\n",
    "    if x<=l[i]:\n",
    "        x=x\n",
    "    else:\n",
    "        x=l[i]\n",
    "print(\"the smallest number is \",x)\n",
    "\n"
   ]
  },
  {
   "cell_type": "code",
   "execution_count": null,
   "id": "9910fe50",
   "metadata": {},
   "outputs": [],
   "source": [
    "# to find the largest number\n",
    "n=int(input(\"enter the no. of elements you want\"))\n",
    "t=0\n",
    "t=n\n",
    "l=[]\n",
    "for i in range(n):\n",
    "    num=int(input(f\"enter {i+1} elements of list\"))\n",
    "    l.append(num)\n",
    "x=l[0]\n",
    "for i in range(1,t):\n",
    "    if x>=l[i]:\n",
    "        x=x\n",
    "    else:\n",
    "        x=l[i]\n",
    "print(\"the largest number is \",x)\n"
   ]
  },
  {
   "cell_type": "code",
   "execution_count": null,
   "id": "97baee04",
   "metadata": {},
   "outputs": [],
   "source": [
    "# to find the  2nd largest number\n",
    "n=int(input(\"enter the no. of elements you want\"))\n",
    "l=[]\n",
    "for i in range(n):\n",
    "    num=int(input(f\"enter {i+1} elements of list\"))\n",
    "    l.append(num)\n",
    "l.sort()\n",
    "print(\"the 2nd largest number is \",l[-2])"
   ]
  },
  {
   "cell_type": "code",
   "execution_count": null,
   "id": "42d500b1",
   "metadata": {},
   "outputs": [],
   "source": [
    "# to find the  n largest number\n",
    "n=int(input(\"enter the no. of elements you want in a list\"))\n",
    "t=int(input(\"enter the top n elements you want\"))\n",
    "l=[]\n",
    "for i in range(n):\n",
    "    num=int(input(f\"enter {i+1} elements of list\"))\n",
    "    l.append(num)\n",
    "l.sort()\n",
    "for i in range(1,t+1):\n",
    "    print(f\"the {i} largest numbers are \",l[-i])"
   ]
  },
  {
   "cell_type": "code",
   "execution_count": 8,
   "id": "509f5afd",
   "metadata": {},
   "outputs": [
    {
     "name": "stdout",
     "output_type": "stream",
     "text": [
      "the odd numbers are [1, 3, 5, 7, 9]\n",
      "the even numbers are [2, 4, 6, 8]\n"
     ]
    }
   ],
   "source": [
    "# to print even and odd number in a list\n",
    "L=[1,2,3,4,5,6,7,8,9]\n",
    "odd=[]\n",
    "even=[]\n",
    "for i in L:\n",
    "    if i%2==0:\n",
    "        even.append(i)\n",
    "    else:\n",
    "        odd.append(i)\n",
    "print(\"the odd numbers are\",odd)\n",
    "print(\"the even numbers are\",even)"
   ]
  },
  {
   "cell_type": "code",
   "execution_count": 18,
   "id": "95d353ec",
   "metadata": {},
   "outputs": [
    {
     "name": "stdout",
     "output_type": "stream",
     "text": [
      "[[12, 3, 'fds'], [235, 534, 36, 474], 43243, '545834', 'gtge']\n"
     ]
    }
   ],
   "source": [
    "#remove empty list in a list\n",
    "l=[[12,3,\"fds\"],[235,534,36,474,],43243,\"545834\",[],\"gtge\",[]]\n",
    "for i in l:\n",
    "    if type(i)==list:\n",
    "        if len(i)==0:\n",
    "            l.remove(i)\n",
    "print(l)"
   ]
  },
  {
   "cell_type": "code",
   "execution_count": 22,
   "id": "ca8aeca7",
   "metadata": {},
   "outputs": [],
   "source": [
    "#copying a list\n",
    "l=[[12,3,\"fds\"],[235,534,36,474,],43243,\"545834\",[],\"gtge\",[]]\n",
    "x=l.copy()"
   ]
  },
  {
   "cell_type": "code",
   "execution_count": 29,
   "id": "be0d0f5b",
   "metadata": {},
   "outputs": [
    {
     "name": "stdout",
     "output_type": "stream",
     "text": [
      "4\n"
     ]
    }
   ],
   "source": [
    "#to count occurence of elements in a list\n",
    "l=[1,2,3,3,4,3,2,2,2,3,3,4,3,3,2,5,5,4,4,3,3,2,2,9,9,9,9]\n",
    "check=9\n",
    "occ=0\n",
    "for i in l:\n",
    "    if i==check:\n",
    "        occ=occ+1\n",
    "print(occ)\n"
   ]
  },
  {
   "cell_type": "code",
   "execution_count": null,
   "id": "2567adca",
   "metadata": {},
   "outputs": [],
   "source": []
  }
 ],
 "metadata": {
  "kernelspec": {
   "display_name": "Python 3 (ipykernel)",
   "language": "python",
   "name": "python3"
  },
  "language_info": {
   "codemirror_mode": {
    "name": "ipython",
    "version": 3
   },
   "file_extension": ".py",
   "mimetype": "text/x-python",
   "name": "python",
   "nbconvert_exporter": "python",
   "pygments_lexer": "ipython3",
   "version": "3.9.7"
  }
 },
 "nbformat": 4,
 "nbformat_minor": 5
}

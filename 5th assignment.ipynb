{
 "cells": [
  {
   "cell_type": "code",
   "execution_count": null,
   "id": "7c4a91d1",
   "metadata": {},
   "outputs": [],
   "source": [
    "#find lcm\n",
    "def find_lcm(num1,num2):\n",
    "    if num1>num2:\n",
    "        L=num1\n",
    "    else:\n",
    "        L=num2\n",
    "    while True:\n",
    "        if ((L%num1==0) and (L%num2==0)):\n",
    "            LCM=L\n",
    "            break\n",
    "        L=L+1\n",
    "    return LCM\n",
    "        \n",
    "\n"
   ]
  },
  {
   "cell_type": "code",
   "execution_count": null,
   "id": "d8dca063",
   "metadata": {},
   "outputs": [],
   "source": [
    "find_lcm(13,12)"
   ]
  },
  {
   "cell_type": "code",
   "execution_count": null,
   "id": "12a2f357",
   "metadata": {},
   "outputs": [],
   "source": [
    "#2). FIND HCF\n",
    "def find_hcf(num1,num2):\n",
    "    if num1>num2:\n",
    "        L=num1\n",
    "    else:\n",
    "        L=num2\n",
    "    while True:\n",
    "        if ((L%num1==0) and (L%num2==0)):\n",
    "            LCM=L\n",
    "            break\n",
    "        L=L+1\n",
    "    HCF=num1*num2/LCM\n",
    "        \n",
    "    return HCF"
   ]
  },
  {
   "cell_type": "code",
   "execution_count": null,
   "id": "d4d41548",
   "metadata": {},
   "outputs": [],
   "source": [
    " find_hcf(1,4)"
   ]
  },
  {
   "cell_type": "code",
   "execution_count": null,
   "id": "29a9dd38",
   "metadata": {},
   "outputs": [],
   "source": [
    "#3).conversion of decimal number into binary,octal and hexadecimal\n",
    "num= int(input(\"enter a decimal number\\n\"))\n",
    "num_system=(input(\"enter B for binary , H for hexadecimal,O for octal\\n\")).lower()\n",
    "if num_system==\"b\":\n",
    "    den=2\n",
    "elif num_system==\"h\":\n",
    "    den=16\n",
    "elif num_system=='o':\n",
    "    den=8\n",
    "else:\n",
    "    print(\"enter correct number system\")\n",
    "l=[]\n",
    "while num//den!=0:\n",
    "    a=(num)%den\n",
    "    l.append(a)\n",
    "    num=num//den\n",
    "    if num_system==\"b\":\n",
    "        if num<=1:\n",
    "            l.append(num)\n",
    "    elif num_system==\"h\":\n",
    "        if num<=8:\n",
    "            l.append(num)\n",
    "    elif num_system==\"o\":\n",
    "        if num<=16:\n",
    "            l.append(num)\n",
    "dec_to_bin=l[::-1]\n",
    "print(dec_to_bin)\n",
    "\n",
    "    \n",
    "\n"
   ]
  },
  {
   "cell_type": "code",
   "execution_count": null,
   "id": "e938d0cc",
   "metadata": {},
   "outputs": [],
   "source": [
    "#4). find ascii value of a character\n",
    "character=input(\"enter a character   \")\n",
    "character_length=len(character)\n",
    "for char in character:\n",
    "    ascii=ord(char)\n",
    "    print(char,\"\\t\",ascii)\n"
   ]
  },
  {
   "cell_type": "code",
   "execution_count": 1,
   "id": "e9279be1",
   "metadata": {},
   "outputs": [
    {
     "name": "stdout",
     "output_type": "stream",
     "text": [
      "press 1 for addition\n",
      "press 2 for subtraction\n",
      "press 3 for multiplication\n",
      "press 4 for division\n",
      "    4\n",
      "enter first no.4\n",
      "enter second no.8\n",
      "0.5\n"
     ]
    }
   ],
   "source": [
    "#5). simple calculator\n",
    "print(\"press 1 for addition\")\n",
    "print(\"press 2 for subtraction\")\n",
    "print(\"press 3 for multiplication\")\n",
    "print(\"press 4 for division\")\n",
    "operation=int(input(\"    \"))\n",
    "x=int(input(\"enter first no.\"))\n",
    "y=int(input(\"enter second no.\"))\n",
    "if operation==1:\n",
    "    def add(x,y):\n",
    "        return x+y\n",
    "    print(add(x,y))\n",
    "if operation==2:\n",
    "    def add(x,y):\n",
    "        return x-y\n",
    "    print(add(x,y))\n",
    "if operation==3:\n",
    "    def add(x,y):\n",
    "        return x*y\n",
    "    print(add(x,y))\n",
    "if operation==4:\n",
    "    def add(x,y):\n",
    "        return x/y\n",
    "    print(add(x,y))\n",
    "    \n",
    "\n"
   ]
  },
  {
   "cell_type": "code",
   "execution_count": null,
   "id": "d9fe7cb8",
   "metadata": {},
   "outputs": [],
   "source": []
  },
  {
   "cell_type": "code",
   "execution_count": null,
   "id": "c306b2dc",
   "metadata": {},
   "outputs": [],
   "source": []
  }
 ],
 "metadata": {
  "kernelspec": {
   "display_name": "Python 3 (ipykernel)",
   "language": "python",
   "name": "python3"
  },
  "language_info": {
   "codemirror_mode": {
    "name": "ipython",
    "version": 3
   },
   "file_extension": ".py",
   "mimetype": "text/x-python",
   "name": "python",
   "nbconvert_exporter": "python",
   "pygments_lexer": "ipython3",
   "version": "3.9.7"
  }
 },
 "nbformat": 4,
 "nbformat_minor": 5
}

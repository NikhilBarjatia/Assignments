{
 "cells": [
  {
   "cell_type": "code",
   "execution_count": null,
   "id": "43e59c99",
   "metadata": {},
   "outputs": [],
   "source": [
    "1).\n",
    "Functions reduce the need for duplicate code. \n",
    "This makes programs shorter, easier to read, and easier to update."
   ]
  },
  {
   "cell_type": "code",
   "execution_count": null,
   "id": "b4d817bb",
   "metadata": {},
   "outputs": [],
   "source": [
    "2).\n",
    "when it's called\n"
   ]
  },
  {
   "cell_type": "code",
   "execution_count": null,
   "id": "5edc7316",
   "metadata": {},
   "outputs": [],
   "source": [
    "3).\n",
    "The statements in the block of the function must be indented.\n",
    "The def keyword is followed by the function name \n",
    "with round brackets and a colon."
   ]
  },
  {
   "cell_type": "code",
   "execution_count": null,
   "id": "5991fc31",
   "metadata": {},
   "outputs": [],
   "source": [
    "4).\n",
    "A function is procedure to achieve a particular result \n",
    "while function call is using this function to achive that task.\n"
   ]
  },
  {
   "cell_type": "code",
   "execution_count": null,
   "id": "1e395929",
   "metadata": {},
   "outputs": [],
   "source": [
    "5).\n",
    "There is one global scope, \n",
    "and a local scope is created whenever a function is called."
   ]
  },
  {
   "cell_type": "code",
   "execution_count": null,
   "id": "e677a94b",
   "metadata": {},
   "outputs": [],
   "source": [
    "6).\n",
    "When a function returns, \n",
    "the local scope is destroyed, \n",
    "and all the variables in it are forgotten."
   ]
  },
  {
   "cell_type": "code",
   "execution_count": null,
   "id": "f64a804f",
   "metadata": {},
   "outputs": [],
   "source": [
    "7).\n",
    "A return value is the value that a function call evaluates to. \n",
    "Like any value, a return value can be used as part of an expression."
   ]
  },
  {
   "cell_type": "code",
   "execution_count": null,
   "id": "b6dc5b6c",
   "metadata": {},
   "outputs": [],
   "source": [
    "8).\n",
    "none"
   ]
  },
  {
   "cell_type": "code",
   "execution_count": null,
   "id": "65ac1a5d",
   "metadata": {},
   "outputs": [],
   "source": [
    "9).\n",
    "A global statement will force a variable in a function to refer to the global variable."
   ]
  },
  {
   "cell_type": "code",
   "execution_count": null,
   "id": "9c761ed2",
   "metadata": {},
   "outputs": [],
   "source": [
    "10).\n",
    "nonetype"
   ]
  },
  {
   "cell_type": "code",
   "execution_count": 3,
   "id": "fa437170",
   "metadata": {},
   "outputs": [
    {
     "ename": "ModuleNotFoundError",
     "evalue": "No module named 'areallyourpetsnamederic'",
     "output_type": "error",
     "traceback": [
      "\u001b[1;31m---------------------------------------------------------------------------\u001b[0m",
      "\u001b[1;31mModuleNotFoundError\u001b[0m                       Traceback (most recent call last)",
      "\u001b[1;32m~\\AppData\\Local\\Temp/ipykernel_6524/51184242.py\u001b[0m in \u001b[0;36m<module>\u001b[1;34m\u001b[0m\n\u001b[1;32m----> 1\u001b[1;33m \u001b[1;32mimport\u001b[0m \u001b[0mareallyourpetsnamederic\u001b[0m\u001b[1;33m\u001b[0m\u001b[1;33m\u001b[0m\u001b[0m\n\u001b[0m",
      "\u001b[1;31mModuleNotFoundError\u001b[0m: No module named 'areallyourpetsnamederic'"
     ]
    }
   ],
   "source": [
    "11).\n",
    "there is no module\n",
    "import areallyourpetsnamederic"
   ]
  },
  {
   "cell_type": "code",
   "execution_count": null,
   "id": "e67217ca",
   "metadata": {},
   "outputs": [],
   "source": [
    "12).\n",
    "spam.bacon()\n",
    "this is a function inside spam module"
   ]
  },
  {
   "cell_type": "code",
   "execution_count": null,
   "id": "1a683f5a",
   "metadata": {},
   "outputs": [],
   "source": [
    "13).\n",
    "we can use try and except clause\n"
   ]
  },
  {
   "cell_type": "code",
   "execution_count": null,
   "id": "25a6a594",
   "metadata": {},
   "outputs": [],
   "source": [
    "14).\n",
    "The try block lets you test a block of code for errors. \n",
    "The except block lets you handle the error.\n",
    "The code that executes if an error happens goes in the except clause."
   ]
  }
 ],
 "metadata": {
  "kernelspec": {
   "display_name": "Python 3 (ipykernel)",
   "language": "python",
   "name": "python3"
  },
  "language_info": {
   "codemirror_mode": {
    "name": "ipython",
    "version": 3
   },
   "file_extension": ".py",
   "mimetype": "text/x-python",
   "name": "python",
   "nbconvert_exporter": "python",
   "pygments_lexer": "ipython3",
   "version": "3.9.7"
  }
 },
 "nbformat": 4,
 "nbformat_minor": 5
}

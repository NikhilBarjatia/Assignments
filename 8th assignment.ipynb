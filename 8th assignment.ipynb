{
 "cells": [
  {
   "cell_type": "code",
   "execution_count": 1,
   "id": "e961e761",
   "metadata": {},
   "outputs": [
    {
     "name": "stdout",
     "output_type": "stream",
     "text": [
      "The matrix addition is: \n",
      "[[ 16 -10  36]\n",
      " [ 14  21  50]\n",
      " [ 28 -16  60]]\n"
     ]
    }
   ],
   "source": [
    "#1).add two matrix\n",
    "import numpy as np  \n",
    "mat1 = np.matrix([[7, 8, 9], [3, -1, 17], [15, 10, 21]])  \n",
    "mat2 = np.matrix([[9, -18, 27], [11, 22, 33], [13, -26, 39]])  \n",
    "mat3 = mat1 + mat2    \n",
    "print(\"The matrix addition is: \")  \n",
    "print(mat3) "
   ]
  },
  {
   "cell_type": "code",
   "execution_count": 5,
   "id": "1084f00c",
   "metadata": {},
   "outputs": [
    {
     "name": "stdout",
     "output_type": "stream",
     "text": [
      "The matrix multiplication is: \n",
      "[[ 268 -184  804]\n",
      " [ 237 -518  711]\n",
      " [ 518 -596 1554]]\n"
     ]
    }
   ],
   "source": [
    "#multiply two  matrix\n",
    "import numpy as np  \n",
    "mat1 = np.matrix([[7, 8, 9], [3, -1, 17], [15, 10, 21]])  \n",
    "mat2 = np.matrix([[9, -18, 27], [11, 22, 33], [13, -26, 39]]) \n",
    "mat3=mat1*mat2\n",
    "print(\"The matrix multiplication is: \")  \n",
    "print(mat3)"
   ]
  },
  {
   "cell_type": "code",
   "execution_count": 6,
   "id": "ac6cfa4c",
   "metadata": {},
   "outputs": [
    {
     "name": "stdout",
     "output_type": "stream",
     "text": [
      "The transpose of matrix  is: \n",
      "[[ 7  3 15]\n",
      " [ 8 -1 10]\n",
      " [ 9 17 21]]\n"
     ]
    }
   ],
   "source": [
    "#transpose a matrix\n",
    "import numpy as np  \n",
    "mat1 = np.matrix([[7, 8, 9], [3, -1, 17], [15, 10, 21]])\n",
    "mat3=mat1.T\n",
    "print(\"The transpose of matrix  is: \")  \n",
    "print(mat3)"
   ]
  },
  {
   "cell_type": "code",
   "execution_count": 10,
   "id": "f7c9b239",
   "metadata": {},
   "outputs": [
    {
     "name": "stdout",
     "output_type": "stream",
     "text": [
      "Enter a string: gfg greg rtqe hef\n",
      "gfg\n",
      "greg\n",
      "hef\n",
      "rtqe\n"
     ]
    }
   ],
   "source": [
    "#sort words\n",
    "words = input(\"Enter a string: \")    \n",
    "words = words.split()   \n",
    "words.sort()    \n",
    "for i in words:  \n",
    "    print(i) "
   ]
  },
  {
   "cell_type": "code",
   "execution_count": 13,
   "id": "3936f22b",
   "metadata": {},
   "outputs": [
    {
     "name": "stdout",
     "output_type": "stream",
     "text": [
      "Enter a string: %#$%  QGqGQ$#^^ RE$%#$@ FEGFU#I*$^%&\n",
      "  QGqGQ RE FEGFUI\n"
     ]
    }
   ],
   "source": [
    "#punctuation\n",
    "punctuation = '''!()-[]{};:'\"\\,<>./?@#$%^&*_~'''\n",
    "words = input(\"Enter a string: \")\n",
    "removed = \"\"\n",
    "for char in words:\n",
    "    if char not in punctuation:\n",
    "         removed= removed + char\n",
    "print(removed)"
   ]
  },
  {
   "cell_type": "code",
   "execution_count": null,
   "id": "f52df00d",
   "metadata": {},
   "outputs": [],
   "source": []
  }
 ],
 "metadata": {
  "kernelspec": {
   "display_name": "Python 3 (ipykernel)",
   "language": "python",
   "name": "python3"
  },
  "language_info": {
   "codemirror_mode": {
    "name": "ipython",
    "version": 3
   },
   "file_extension": ".py",
   "mimetype": "text/x-python",
   "name": "python",
   "nbconvert_exporter": "python",
   "pygments_lexer": "ipython3",
   "version": "3.9.7"
  }
 },
 "nbformat": 4,
 "nbformat_minor": 5
}

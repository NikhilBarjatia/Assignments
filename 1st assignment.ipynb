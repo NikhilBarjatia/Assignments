{
 "cells": [
  {
   "cell_type": "code",
   "execution_count": 3,
   "id": "60f4472b",
   "metadata": {},
   "outputs": [
    {
     "name": "stdout",
     "output_type": "stream",
     "text": [
      "hello python\n"
     ]
    }
   ],
   "source": [
    "#1).\n",
    "print(\"hello python\")"
   ]
  },
  {
   "cell_type": "code",
   "execution_count": 31,
   "id": "1f65cee1",
   "metadata": {},
   "outputs": [],
   "source": [
    "#2).\n",
    "def add(*args):\n",
    "    x=0\n",
    "    for i in args:\n",
    "        x=x+i\n",
    "        return x"
   ]
  },
  {
   "cell_type": "code",
   "execution_count": 44,
   "id": "cf2d7308",
   "metadata": {},
   "outputs": [],
   "source": [
    "def div(a,b):\n",
    "    return a/b"
   ]
  },
  {
   "cell_type": "code",
   "execution_count": 3,
   "id": "cd854bfb",
   "metadata": {},
   "outputs": [
    {
     "name": "stdout",
     "output_type": "stream",
     "text": [
      "enter 1st side2\n",
      "enter 2st side3\n",
      "enter 3st side4\n",
      "area of triangle=2.9047375096555625\n"
     ]
    }
   ],
   "source": [
    "#3).\n",
    "x=float(input(\"enter 1st side\"))\n",
    "y=float(input(\"enter 2st side\"))\n",
    "z=float(input(\"enter 3st side\"))\n",
    "s=(x+y+z)/2\n",
    "print(f\"area of triangle={(s*(s-x)*(s-y)*(s-z))**0.5}\")"
   ]
  },
  {
   "cell_type": "code",
   "execution_count": 5,
   "id": "79e0e8be",
   "metadata": {},
   "outputs": [
    {
     "name": "stdout",
     "output_type": "stream",
     "text": [
      "3 4\n"
     ]
    }
   ],
   "source": [
    "#4).\n",
    "a=4\n",
    "b=3\n",
    "c=a\n",
    "a=b\n",
    "b=c\n",
    "print(a,b)"
   ]
  },
  {
   "cell_type": "code",
   "execution_count": 11,
   "id": "c456fe4f",
   "metadata": {},
   "outputs": [
    {
     "name": "stdout",
     "output_type": "stream",
     "text": [
      "0.28092153871641334\n"
     ]
    }
   ],
   "source": [
    "#5).\n",
    "import random\n",
    "print(random.random())"
   ]
  },
  {
   "cell_type": "code",
   "execution_count": null,
   "id": "185438ca",
   "metadata": {},
   "outputs": [],
   "source": []
  },
  {
   "cell_type": "code",
   "execution_count": null,
   "id": "b34e9f2a",
   "metadata": {},
   "outputs": [],
   "source": []
  }
 ],
 "metadata": {
  "kernelspec": {
   "display_name": "Python 3 (ipykernel)",
   "language": "python",
   "name": "python3"
  },
  "language_info": {
   "codemirror_mode": {
    "name": "ipython",
    "version": 3
   },
   "file_extension": ".py",
   "mimetype": "text/x-python",
   "name": "python",
   "nbconvert_exporter": "python",
   "pygments_lexer": "ipython3",
   "version": "3.9.7"
  }
 },
 "nbformat": 4,
 "nbformat_minor": 5
}

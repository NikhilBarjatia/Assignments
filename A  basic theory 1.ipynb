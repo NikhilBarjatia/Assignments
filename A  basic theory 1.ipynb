{
 "cells": [
  {
   "cell_type": "code",
   "execution_count": null,
   "id": "ce031d97",
   "metadata": {},
   "outputs": [],
   "source": [
    "1).\n",
    "values:-'hello',-87.8,6\n",
    "expressions-*,-,/,+"
   ]
  },
  {
   "cell_type": "code",
   "execution_count": null,
   "id": "4a47c236",
   "metadata": {},
   "outputs": [],
   "source": [
    "2). \n",
    "VARIABLE:-\n",
    "A variable is basically the name of the location in the primary memory of your computer.\n",
    "This can be chosen by you.\n",
    "A variable can store everything from strings to numbers.\n",
    "\n",
    "STRING:-\n",
    "A string is the values inside the quotes assigned to a variable\n"
   ]
  },
  {
   "cell_type": "code",
   "execution_count": null,
   "id": "5314cbf3",
   "metadata": {},
   "outputs": [],
   "source": [
    "3).\n",
    "1) Int – It stores the integers values that can be positive or negative \n",
    "and do not contain any decimal point.\n",
    "\n",
    "2) Float – These are floating-point real numbers that stores the decimal values. \n",
    "It consists of integer and fraction parts. \n",
    "\n",
    "3) Complex – These are complex numbers specified as a real part and an imaginary part."
   ]
  },
  {
   "cell_type": "code",
   "execution_count": null,
   "id": "3aa95400",
   "metadata": {},
   "outputs": [],
   "source": [
    "4).\n",
    "An expression is a construct made up of variables, operators, and method invocations, \n",
    "which are constructed according to the syntax of the language, \n",
    "that evaluates to a single value"
   ]
  },
  {
   "cell_type": "code",
   "execution_count": null,
   "id": "1ffeca48",
   "metadata": {},
   "outputs": [],
   "source": [
    "5).\n",
    "EXPRESSION:-\n",
    "an expression is a combination of values and functions \n",
    "that are combined and interpreted by the compiler to create a new value.\n",
    "\n",
    "STATEMENT:-\n",
    "a statement is just a standalone unit of execution and doesn't return anything."
   ]
  },
  {
   "cell_type": "code",
   "execution_count": 1,
   "id": "a57d5617",
   "metadata": {},
   "outputs": [
    {
     "data": {
      "text/plain": [
       "23"
      ]
     },
     "execution_count": 1,
     "metadata": {},
     "output_type": "execute_result"
    }
   ],
   "source": [
    "6).\n",
    "23"
   ]
  },
  {
   "cell_type": "code",
   "execution_count": null,
   "id": "73168a9e",
   "metadata": {},
   "outputs": [],
   "source": [
    "7). \n",
    "spamspamspam\n",
    "spamspamspam"
   ]
  },
  {
   "cell_type": "code",
   "execution_count": null,
   "id": "6e4b4709",
   "metadata": {},
   "outputs": [],
   "source": [
    "8). \n",
    "A variable name cannot start with a number.\n",
    "A variable name can only contain alpha-numeric characters and underscores"
   ]
  },
  {
   "cell_type": "code",
   "execution_count": 5,
   "id": "34977cca",
   "metadata": {},
   "outputs": [
    {
     "ename": "SyntaxError",
     "evalue": "cannot assign to literal (Temp/ipykernel_10896/3015533467.py, line 1)",
     "output_type": "error",
     "traceback": [
      "\u001b[1;36m  File \u001b[1;32m\"C:\\Users\\Nikhi\\AppData\\Local\\Temp/ipykernel_10896/3015533467.py\"\u001b[1;36m, line \u001b[1;32m1\u001b[0m\n\u001b[1;33m    1_8=8\u001b[0m\n\u001b[1;37m    ^\u001b[0m\n\u001b[1;31mSyntaxError\u001b[0m\u001b[1;31m:\u001b[0m cannot assign to literal\n"
     ]
    }
   ],
   "source": [
    "9).\n",
    "int()\n",
    "float()\n",
    "str()"
   ]
  },
  {
   "cell_type": "code",
   "execution_count": 6,
   "id": "7965def8",
   "metadata": {},
   "outputs": [
    {
     "data": {
      "text/plain": [
       "18"
      ]
     },
     "execution_count": 6,
     "metadata": {},
     "output_type": "execute_result"
    }
   ],
   "source": [
    "10).\n",
    "cannot add strings to integers\n",
    "convert 99 into string data type\n",
    "I have eaten &#39; + 99 + &#39; burritos.&#39;"
   ]
  },
  {
   "cell_type": "code",
   "execution_count": 9,
   "id": "52e10d76",
   "metadata": {},
   "outputs": [
    {
     "data": {
      "text/plain": [
       "'I have eaten 99 burritos'"
      ]
     },
     "execution_count": 9,
     "metadata": {},
     "output_type": "execute_result"
    }
   ],
   "source": [
    "\"I have eaten\" + \" 99\" +\" burritos\""
   ]
  },
  {
   "cell_type": "code",
   "execution_count": null,
   "id": "fba0b0a4",
   "metadata": {},
   "outputs": [],
   "source": []
  }
 ],
 "metadata": {
  "kernelspec": {
   "display_name": "Python 3 (ipykernel)",
   "language": "python",
   "name": "python3"
  },
  "language_info": {
   "codemirror_mode": {
    "name": "ipython",
    "version": 3
   },
   "file_extension": ".py",
   "mimetype": "text/x-python",
   "name": "python",
   "nbconvert_exporter": "python",
   "pygments_lexer": "ipython3",
   "version": "3.9.7"
  }
 },
 "nbformat": 4,
 "nbformat_minor": 5
}

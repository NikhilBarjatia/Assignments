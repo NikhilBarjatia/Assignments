{
 "cells": [
  {
   "cell_type": "code",
   "execution_count": null,
   "id": "4ee9a6f6",
   "metadata": {},
   "outputs": [],
   "source": [
    "#disarium number\n",
    "check=int(input(\"enter a number\"))\n",
    "check =str(check)\n",
    "length=len(check)\n",
    "dis=0\n",
    "for i in range(length):\n",
    "    dis=dis+int(check[i])**(i+1)\n",
    "print(dis)\n",
    "if dis==int(check):\n",
    "    print(\"the given number is a Disarium Number\")\n",
    "else:\n",
    "    print(\"the given number is not a Disarium Number\")"
   ]
  },
  {
   "cell_type": "code",
   "execution_count": null,
   "id": "020d0b93",
   "metadata": {},
   "outputs": [],
   "source": [
    "#print all disarium number between 1_100\n",
    "for check in range(1,101):\n",
    "    check =str(check)\n",
    "    length=len(check)\n",
    "    dis=0\n",
    "    for i in range(length):\n",
    "        dis=dis+int(check[i])**(i+1)\n",
    "    if dis==int(check):\n",
    "        print(dis)\n",
    "        "
   ]
  },
  {
   "cell_type": "code",
   "execution_count": null,
   "id": "6301233b",
   "metadata": {},
   "outputs": [],
   "source": [
    "#happy number\n",
    "def isHappyNumber(num):  \n",
    "    rem = 0\n",
    "    sum = 0  \n",
    "    while(num > 0):  \n",
    "        rem = num%10 \n",
    "        sum = sum + (rem*rem) \n",
    "        num = num//10  \n",
    "    return sum  \n",
    "      \n",
    "num = int(input(\"enter a number\")) \n",
    "result = num  \n",
    "   \n",
    "while(result != 1 and result != 4):  \n",
    "    result = isHappyNumber(result) \n",
    "if(result == 1):  \n",
    "    print(str(num) + \" is a happy number\")   \n",
    "elif(result == 4):  \n",
    "    print(str(num) + \" is not a happy number\")"
   ]
  },
  {
   "cell_type": "code",
   "execution_count": null,
   "id": "a9b1e70d",
   "metadata": {},
   "outputs": [],
   "source": [
    "#4). happy numbers between 1-100\n",
    "def isHappyNumber(num):  \n",
    "    rem = 0\n",
    "    sum = 0  \n",
    "    while(num > 0):  \n",
    "        rem = num%10 \n",
    "        sum = sum + (rem*rem) \n",
    "        num = num//10  \n",
    "    return sum  \n",
    "for num in range(1,101):\n",
    "    result = num  \n",
    "    while(result != 1 and result != 4):  \n",
    "        result = isHappyNumber(result) \n",
    "    if(result == 1):  \n",
    "        print(str(num))   \n",
    "    elif(result == 4):  \n",
    "        pass\n",
    "\n",
    "    "
   ]
  },
  {
   "cell_type": "code",
   "execution_count": null,
   "id": "0b5e3444",
   "metadata": {},
   "outputs": [],
   "source": [
    "#harshad number\n",
    "num=int(input(\"ENTER A NUMBER\"))\n",
    "num=str(num)\n",
    "add=0\n",
    "for i in range(len(num)):\n",
    "    add=add+int(num[i])\n",
    "if int(num)%add==0:\n",
    "    print(f\"{num} is a harshad number\")\n",
    "else:\n",
    "    print(f\"{num} is not a harshad number\")"
   ]
  },
  {
   "cell_type": "code",
   "execution_count": 12,
   "id": "bd9be4d7",
   "metadata": {},
   "outputs": [
    {
     "name": "stdout",
     "output_type": "stream",
     "text": [
      "enter a num1\n",
      "2\n",
      "6\n",
      "12\n",
      "20\n",
      "30\n",
      "42\n",
      "56\n",
      "72\n",
      "90\n"
     ]
    }
   ],
   "source": [
    "#pronic number between 1_100\n",
    "for j in range(1,101):\n",
    "    for i in range(1,j):\n",
    "        if j/(i+1)==i:\n",
    "            print(j)\n",
    "\n",
    "        \n"
   ]
  },
  {
   "cell_type": "code",
   "execution_count": null,
   "id": "4470a288",
   "metadata": {},
   "outputs": [],
   "source": []
  }
 ],
 "metadata": {
  "kernelspec": {
   "display_name": "Python 3 (ipykernel)",
   "language": "python",
   "name": "python3"
  },
  "language_info": {
   "codemirror_mode": {
    "name": "ipython",
    "version": 3
   },
   "file_extension": ".py",
   "mimetype": "text/x-python",
   "name": "python",
   "nbconvert_exporter": "python",
   "pygments_lexer": "ipython3",
   "version": "3.9.7"
  }
 },
 "nbformat": 4,
 "nbformat_minor": 5
}

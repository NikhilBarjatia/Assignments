{
 "cells": [
  {
   "cell_type": "code",
   "execution_count": null,
   "id": "2f327bc4",
   "metadata": {},
   "outputs": [],
   "source": [
    "#1).\n",
    "a=float(input(\"enter the length in kilometers\\n\"))\n",
    "print(f\"there are {a*0.621} miles in {a} kilometers\")"
   ]
  },
  {
   "cell_type": "code",
   "execution_count": null,
   "id": "c50ef599",
   "metadata": {},
   "outputs": [],
   "source": [
    "#2).\n",
    "b=float(input(\"enter the temperature in Celsius\\n\"))\n",
    "print(f\"there are {(a*2*9/5)+32} Fahrenheit in {b} Celsius\")"
   ]
  },
  {
   "cell_type": "code",
   "execution_count": null,
   "id": "3b4f8008",
   "metadata": {},
   "outputs": [],
   "source": [
    "#3).\n",
    "import calendar\n",
    "Year=int(input(\"enter year\\n\"))\n",
    "Month= int(input(\"enter month\\n\"))\n",
    "print(calendar.month(Year,Month))"
   ]
  },
  {
   "cell_type": "code",
   "execution_count": 11,
   "id": "0ced393f",
   "metadata": {},
   "outputs": [
    {
     "name": "stdout",
     "output_type": "stream",
     "text": [
      "enter the coefficient of x^21\n",
      "enter the coefficient of x1\n",
      "enter the constant term independent of x1\n",
      "the roots of given quadratic equation are (-0.49999999999999994+0.8660254037844386j) and (-0.5-0.8660254037844386j)\n"
     ]
    }
   ],
   "source": [
    "#4).\n",
    "import math\n",
    "a= float(input(\"enter the coefficient of x^2\"))\n",
    "b=float(input(\"enter the coefficient of x\"))\n",
    "c=float(input(\"enter the constant term independent of x\"))\n",
    "d=b**2-4*a*c\n",
    "x1=(-b+(d)**0.5)/2*a\n",
    "x2=(-b-(d)**0.5)/2*a\n",
    "print(f\"the roots of given quadratic equation are {x1} and {x2}\")"
   ]
  },
  {
   "cell_type": "code",
   "execution_count": 7,
   "id": "6cddc403",
   "metadata": {},
   "outputs": [
    {
     "name": "stdout",
     "output_type": "stream",
     "text": [
      "five 5\n"
     ]
    }
   ],
   "source": [
    "#5).\n",
    "x=5\n",
    "y=\"five\"\n",
    "x,y=y,x\n",
    "print(x,y)"
   ]
  },
  {
   "cell_type": "code",
   "execution_count": null,
   "id": "270fca8a",
   "metadata": {},
   "outputs": [],
   "source": []
  }
 ],
 "metadata": {
  "kernelspec": {
   "display_name": "Python 3 (ipykernel)",
   "language": "python",
   "name": "python3"
  },
  "language_info": {
   "codemirror_mode": {
    "name": "ipython",
    "version": 3
   },
   "file_extension": ".py",
   "mimetype": "text/x-python",
   "name": "python",
   "nbconvert_exporter": "python",
   "pygments_lexer": "ipython3",
   "version": "3.9.7"
  }
 },
 "nbformat": 4,
 "nbformat_minor": 5
}

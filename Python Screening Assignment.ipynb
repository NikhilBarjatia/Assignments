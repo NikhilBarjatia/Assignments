{
 "cells": [
  {
   "cell_type": "code",
   "execution_count": 4,
   "id": "97f87fb3",
   "metadata": {},
   "outputs": [],
   "source": [
    "#1). method 1\n",
    "\n",
    "def replace_text(search_string,replace_string): # creating a function to perform the task\n",
    "    import re\n",
    "    with open('example.txt','r+') as f:  # opening the file in read and write mode\n",
    "        file = f.read()  # storing the content of file in file variable\n",
    "        file = re.sub(search_string, replace_string, file)  #replacing the specific content in file variable\n",
    "        f.seek(0) # changing the position of index to 0\n",
    "        f.write(file) # writing the content of file variable in text file\n",
    "        f.truncate() # truncating the file size\n",
    "replace_text(\"placement\",\"screening\")"
   ]
  },
  {
   "cell_type": "code",
   "execution_count": null,
   "id": "03a1b1fe",
   "metadata": {},
   "outputs": [],
   "source": [
    "# method 2 \n",
    "\n",
    "def text_replace(search_string,replace_string): # creating a function to perform the task\n",
    "    with open(\"example.txt\", \"r+\") as f: # opening the file in read and write mode\n",
    "            file = f.read() # storing the content of file in variable\n",
    "            file = file.replace(search_string, replace_string) #replacing the specific content using replace function\n",
    "            with open(\"example.txt\", \"w\") as f: # truncating the file and then open for writing \n",
    "                f.write(file) # writing the content in text file stored in file variable\n",
    "    return 'accomplished'\n",
    "print(text_replace(\"placement\",\"screening\"))"
   ]
  },
  {
   "cell_type": "code",
   "execution_count": null,
   "id": "911343f7",
   "metadata": {},
   "outputs": [],
   "source": [
    "from abc import ABC , abstractmethod "
   ]
  },
  {
   "cell_type": "code",
   "execution_count": 4,
   "id": "941807da",
   "metadata": {},
   "outputs": [
    {
     "name": "stdout",
     "output_type": "stream",
     "text": [
      "GOOD MORNING\n"
     ]
    }
   ],
   "source": [
    "#2). \n",
    "#A).Decorator:- It is a callable function object .It will take a function and modify it and it will return that function\n",
    "\n",
    "\n",
    "# convert lower case letter into upper case using decorator\n",
    "\n",
    "def str_upper(func): #creating a decorator function \n",
    "    def inner(): # adding functionality to the function\n",
    "        str1=func()\n",
    "        return str1.upper()\n",
    "    return inner() # returning the function \n",
    "\n",
    "@str_upper #using decorator function \n",
    "def print_str():\n",
    "    return \"good morning\"\n",
    "print(print_str)\n"
   ]
  },
  {
   "cell_type": "code",
   "execution_count": 9,
   "id": "15d1c3ce",
   "metadata": {},
   "outputs": [
    {
     "name": "stdout",
     "output_type": "stream",
     "text": [
      "can't divide by 0\n"
     ]
    }
   ],
   "source": [
    "# use of decorator with parameters\n",
    "\n",
    "# create a decorator function to handle exceptional cases in divison\n",
    "def div_decorator(func):\n",
    "    def inner(x,y):\n",
    "        if y==0:\n",
    "            return \"can't divide by 0\"\n",
    "        return func(x,y)\n",
    "    return inner\n",
    "\n",
    "@div_decorator\n",
    "def div(a,b):\n",
    "    return a/b\n",
    "print(div(4,0))\n"
   ]
  },
  {
   "cell_type": "code",
   "execution_count": 16,
   "id": "7233632e",
   "metadata": {},
   "outputs": [
    {
     "name": "stdout",
     "output_type": "stream",
     "text": [
      "Narendra Modi--->India\n",
      "Pedro Sánchez--->Spain\n",
      "Christian Ntsay--->Madagascar\n"
     ]
    }
   ],
   "source": [
    "#B).Abstract class:-an abstract class is a class that cannot be instantiated. \n",
    "                    #However, you can create classes that inherit from an abstract class.\n",
    "                    #Typically, you use an abstract class to create a blueprint for other classes.\n",
    "                    #Similarly, an abstract method is an method without an implementation. \n",
    "                    #An abstract class may or may not include abstract methods.\n",
    "\n",
    "# use abstract class and abstract method to display the prime ministers name of selected countries.\n",
    "\n",
    "from abc import ABC, abstractmethod\n",
    "# abc is a builtin module, we have to import ABC and abstractmethod\n",
    "\n",
    "class Prime_minister(ABC): # Inherit from ABC(Abstract base class)\n",
    "    @abstractmethod  # Decorator to define an abstract method\n",
    "    def Prime_minister_name(self):\n",
    "        pass\n",
    "    \n",
    "class India(Prime_minister): #creating classes for countries\n",
    "    def Prime_minister_name(self):\n",
    "        print(\"Narendra Modi--->India\") \n",
    "\n",
    "class Spain(Prime_minister): \n",
    "    def Prime_minister_name(self): \n",
    "        print(\"Pedro Sánchez--->Spain\") \n",
    "\n",
    "class Madagascar(Prime_minister): \n",
    "    def Prime_minister_name(self): \n",
    "        print(\"Christian Ntsay--->Madagascar\")\n",
    "\n",
    "country_list = [India(), Spain(), Madagascar()] #creating a list of classes or countries\n",
    "\n",
    "for country in country_list: ## Loop through the countries and showing name of prime_ministers\n",
    "    country.Prime_minister_name() "
   ]
  },
  {
   "cell_type": "code",
   "execution_count": 17,
   "id": "31fe4d15",
   "metadata": {},
   "outputs": [
    {
     "name": "stdout",
     "output_type": "stream",
     "text": [
      "This is class Test\n",
      "This is class Test1\n"
     ]
    }
   ],
   "source": [
    "#C).Multiple Inheritence :-When a class is derived from more than one base class it is called multiple Inheritance. \n",
    "                           #The derived class inherits all the features of the base case.\n",
    "class Test:\n",
    "    def a(self):\n",
    "        return \"This is class Test\"\n",
    "\n",
    "class Test1:\n",
    "    def a(self):\n",
    "        return \"This is class Test1\"\n",
    "\n",
    "class Test2(Test, Test1):\n",
    "    \"\"\"Test class methods overrides Test1 class methods\"\"\"\n",
    "    pass\n",
    "\n",
    "t2 = Test2()\n",
    "print(t2.a())\n",
    "\n",
    "class Test2(Test1, Test):\n",
    "    \"\"\"Test1 class methods overrides Test class methods\"\"\"\n",
    "    pass\n",
    "\n",
    "t2_ = Test2()\n",
    "print(t2_.a())\n"
   ]
  },
  {
   "cell_type": "code",
   "execution_count": 18,
   "id": "95587ba9",
   "metadata": {},
   "outputs": [
    {
     "name": "stdout",
     "output_type": "stream",
     "text": [
      "This is class Test1\n"
     ]
    }
   ],
   "source": [
    "class Test:\n",
    "    def a(self):\n",
    "        return \"This is class Test\"\n",
    "\n",
    "class Test1(Test):\n",
    "    def a(self):\n",
    "        return \"This is class Test1\"\n",
    "\n",
    "class Test2(Test1):\n",
    "    \"\"\"Test class methods overrides Test1 class methods\"\"\"\n",
    "    pass\n",
    "\n",
    "t2 = Test2()\n",
    "print(t2.a())\n"
   ]
  }
 ],
 "metadata": {
  "kernelspec": {
   "display_name": "Python 3 (ipykernel)",
   "language": "python",
   "name": "python3"
  },
  "language_info": {
   "codemirror_mode": {
    "name": "ipython",
    "version": 3
   },
   "file_extension": ".py",
   "mimetype": "text/x-python",
   "name": "python",
   "nbconvert_exporter": "python",
   "pygments_lexer": "ipython3",
   "version": "3.9.7"
  }
 },
 "nbformat": 4,
 "nbformat_minor": 5
}

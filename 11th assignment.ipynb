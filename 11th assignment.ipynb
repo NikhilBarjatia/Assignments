{
 "cells": [
  {
   "cell_type": "code",
   "execution_count": null,
   "id": "ffe33302",
   "metadata": {},
   "outputs": [],
   "source": [
    "# find the words which are greater then given length k\n",
    "k=int(input(\"enter the length k\"))\n",
    "sample=\"he was hired as a teacher at a commercial college but was dismissed in 1940 when he was exempted from conscription as a conscientious objector He then spent years working as a farmhand as well \"\n",
    "l=sample.split()\n",
    "for i in l:\n",
    "    if len(i)>k:\n",
    "        print(i)\n",
    "\n",
    "    "
   ]
  },
  {
   "cell_type": "code",
   "execution_count": null,
   "id": "7706f8fd",
   "metadata": {},
   "outputs": [],
   "source": [
    "#remove ith character from a string\n",
    "k=int(input(\"enter the position of character\"))\n",
    "k=k-1\n",
    "sample=\"arnold subhash nagar\"\n",
    "a=sample[:k]\n",
    "b=sample[k+1:]\n",
    "print(a+b)\n"
   ]
  },
  {
   "cell_type": "code",
   "execution_count": null,
   "id": "b561d125",
   "metadata": {},
   "outputs": [],
   "source": [
    "#to split and join a string\n",
    "sample=\"arnold subhash nagar\"\n",
    "sample= sample.split( )\n",
    "print(\"the split of string is \",sample)\n",
    "l=\"\"\n",
    "for i in sample:\n",
    "    l=l+\" \" + i\n",
    "print(\"the join of string is \",l)\n",
    "    "
   ]
  },
  {
   "cell_type": "code",
   "execution_count": 30,
   "id": "2ca74d5a",
   "metadata": {},
   "outputs": [
    {
     "name": "stdout",
     "output_type": "stream",
     "text": [
      "enter a string to check whether it is binary string or not 243\n",
      "it is not a binary string\n"
     ]
    }
   ],
   "source": [
    "# to check the given string is binary or not\n",
    "string=input(\"enter a string to check whether it is binary string or not \")\n",
    "check=\"01\"\n",
    "con=0\n",
    "for i in string :\n",
    "    if i not in check:\n",
    "        con=1\n",
    "        break\n",
    "if con==1:\n",
    "    print(\"it is not a binary string\")\n",
    "else:\n",
    "    print(\"it is a binary string\")\n",
    "        "
   ]
  },
  {
   "cell_type": "code",
   "execution_count": 7,
   "id": "f2969bfe",
   "metadata": {},
   "outputs": [
    {
     "name": "stdout",
     "output_type": "stream",
     "text": [
      "the uncommon words are\n",
      " ['11th,etwtyeb', 'vwhvt', 'trwhrv', 'yywv', 'not,', 'rgaerwg', 'ehwt', 'hehwe', '11th']\n"
     ]
    }
   ],
   "source": [
    "#uncommon words from two strings\n",
    "string1=\"this is 11th,etwtyeb vwhvt trwhrv yywv assignment\"\n",
    "string2=\"this is not, rgaerwg ehwt hehwe 11th assignment\"\n",
    "string1=string1.split()\n",
    "string2=string2.split()\n",
    "l=[]\n",
    "for i in string1:\n",
    "    if i not in string2:\n",
    "        l.append(i)\n",
    "for j in string2:\n",
    "    if j not in string1:\n",
    "        l.append(j)\n",
    "print(\"the uncommon words are\\n\",l)\n",
    "\n",
    "\n"
   ]
  },
  {
   "cell_type": "code",
   "execution_count": 13,
   "id": "d7b656f6",
   "metadata": {},
   "outputs": [
    {
     "name": "stdout",
     "output_type": "stream",
     "text": [
      "['a', 'b', 'c', 'd']\n"
     ]
    }
   ],
   "source": [
    "#python program to find all duplicate character in string\n",
    "string=\"aaaabcccccbccddefgh\"\n",
    "l=[]\n",
    "for i in range(len(string)):\n",
    "    if string[i] in string[i+1:]:\n",
    "        if string[i] in l:\n",
    "            pass\n",
    "        else:\n",
    "            l.append(string[i])\n",
    "print(l)\n",
    "               \n",
    "               \n",
    "\n",
    "\n"
   ]
  },
  {
   "cell_type": "code",
   "execution_count": 44,
   "id": "ac6b3124",
   "metadata": {},
   "outputs": [
    {
     "name": "stdout",
     "output_type": "stream",
     "text": [
      "it contains special character \n"
     ]
    }
   ],
   "source": [
    "#to check if a string contains any special character\n",
    "string=\"dsgdsfhjhh#g\"\n",
    "check=\"[@_!#$%^&*()<>?/\\|}{~:]\"\n",
    "con=0\n",
    "for i in string :\n",
    "    if i in check:\n",
    "        con=1\n",
    "        break\n",
    "if con==0:\n",
    "    print(\"it does not contain any special character\")\n",
    "else:\n",
    "    print(\"it contains special character \")"
   ]
  }
 ],
 "metadata": {
  "kernelspec": {
   "display_name": "Python 3 (ipykernel)",
   "language": "python",
   "name": "python3"
  },
  "language_info": {
   "codemirror_mode": {
    "name": "ipython",
    "version": 3
   },
   "file_extension": ".py",
   "mimetype": "text/x-python",
   "name": "python",
   "nbconvert_exporter": "python",
   "pygments_lexer": "ipython3",
   "version": "3.9.7"
  }
 },
 "nbformat": 4,
 "nbformat_minor": 5
}

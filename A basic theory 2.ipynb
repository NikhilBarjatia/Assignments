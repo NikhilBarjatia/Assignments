{
 "cells": [
  {
   "cell_type": "code",
   "execution_count": null,
   "id": "98a011fc",
   "metadata": {},
   "outputs": [],
   "source": [
    "1).\n",
    "True \n",
    "False"
   ]
  },
  {
   "cell_type": "code",
   "execution_count": null,
   "id": "2536ef00",
   "metadata": {},
   "outputs": [],
   "source": [
    "2).\n",
    "AND OR NOT"
   ]
  },
  {
   "cell_type": "code",
   "execution_count": null,
   "id": "3f7b212f",
   "metadata": {},
   "outputs": [],
   "source": [
    "3).\n",
    "OR \n",
    "A B Q\n",
    "0 0 0\n",
    "0 1 1\n",
    "1 0 1\n",
    "1 1 1\n",
    "\n",
    "AND\n",
    "A B Q\n",
    "0 0 0\n",
    "0 1 0\n",
    "1 0 0\n",
    "1 1 1\n",
    "\n",
    "NOT\n",
    "\n",
    "A Q\n",
    "0 1\n",
    "1 0"
   ]
  },
  {
   "cell_type": "code",
   "execution_count": null,
   "id": "a1ff1439",
   "metadata": {},
   "outputs": [],
   "source": [
    "4).\n",
    "False\n",
    "False\n",
    "True\n",
    "False\n",
    "False\n",
    "True"
   ]
  },
  {
   "cell_type": "code",
   "execution_count": null,
   "id": "62c11af5",
   "metadata": {},
   "outputs": [],
   "source": [
    "5).\n",
    "There are six main comparison operators: \n",
    "equal to, not equal to, greater than,\n",
    "greater than or equal to, less than,\n",
    "less than or equal to."
   ]
  },
  {
   "cell_type": "code",
   "execution_count": null,
   "id": "151abcb3",
   "metadata": {},
   "outputs": [],
   "source": [
    "6).\n",
    " = is an Assignment Operator it is used to assign the value of variable or expression,\n",
    "let say we have to assign a value to a \n",
    "we will use = and not ==\n",
    "    a=8  \n",
    "    \n",
    "while ==is an Equal to Operator and it is a relation operator used for comparison \n",
    "(to compare value of both left and right side operands).\n",
    "\n",
    "let say we have to check whether a variable has the value 8 or not\n",
    "we will use == and not =\n",
    "a==8"
   ]
  },
  {
   "cell_type": "code",
   "execution_count": null,
   "id": "ce81da56",
   "metadata": {},
   "outputs": [],
   "source": [
    "7).\n",
    "spam = 0\n",
    "if spam == 10:\n",
    "  #1  print('eggs')\n",
    "if spam > 5:\n",
    "#2  print('bacon')\n",
    "else:\n",
    " #3 print('ham')\n",
    "    print('spam')\n",
    "    print('spam')\n"
   ]
  },
  {
   "cell_type": "code",
   "execution_count": 13,
   "id": "8a511c91",
   "metadata": {},
   "outputs": [
    {
     "name": "stdout",
     "output_type": "stream",
     "text": [
      "Greetings!\n"
     ]
    }
   ],
   "source": [
    "#8).\n",
    "spam = 0\n",
    "if spam ==1:\n",
    "    print(\"hello\")\n",
    "elif spam ==2:\n",
    "    print(\"Howdy\")\n",
    "else:\n",
    "    print(\"Greetings!\")"
   ]
  },
  {
   "cell_type": "code",
   "execution_count": null,
   "id": "fc101bba",
   "metadata": {},
   "outputs": [],
   "source": [
    "9).\n",
    "press CTRL + C"
   ]
  },
  {
   "cell_type": "code",
   "execution_count": null,
   "id": "0370f753",
   "metadata": {},
   "outputs": [],
   "source": [
    "10).\n",
    "The main difference between break and continue statement is that \n",
    "when break keyword is encountered, it will exit the loop. \n",
    "In case of continue keyword, the current iteration that is running will be stopped \n",
    "and it will proceed with the next iteration."
   ]
  },
  {
   "cell_type": "code",
   "execution_count": null,
   "id": "39607491",
   "metadata": {},
   "outputs": [],
   "source": [
    "11).\n",
    "there is no difference"
   ]
  },
  {
   "cell_type": "code",
   "execution_count": 23,
   "id": "6e65786e",
   "metadata": {},
   "outputs": [
    {
     "name": "stdout",
     "output_type": "stream",
     "text": [
      "1\n",
      "2\n",
      "3\n",
      "4\n",
      "5\n",
      "6\n",
      "7\n",
      "8\n",
      "9\n",
      "10\n",
      "1\n",
      "2\n",
      "3\n",
      "4\n",
      "5\n",
      "6\n",
      "7\n",
      "8\n",
      "9\n",
      "10\n"
     ]
    }
   ],
   "source": [
    "#12).\n",
    "for i in range(1,11):\n",
    "    print(i)\n",
    "j=1\n",
    "while j<=10:\n",
    "    print(j)\n",
    "    j+=1\n"
   ]
  },
  {
   "cell_type": "code",
   "execution_count": null,
   "id": "18aa091b",
   "metadata": {},
   "outputs": [],
   "source": [
    "13)\n",
    "import spam\n",
    "spam.bacon()"
   ]
  }
 ],
 "metadata": {
  "kernelspec": {
   "display_name": "Python 3 (ipykernel)",
   "language": "python",
   "name": "python3"
  },
  "language_info": {
   "codemirror_mode": {
    "name": "ipython",
    "version": 3
   },
   "file_extension": ".py",
   "mimetype": "text/x-python",
   "name": "python",
   "nbconvert_exporter": "python",
   "pygments_lexer": "ipython3",
   "version": "3.9.7"
  }
 },
 "nbformat": 4,
 "nbformat_minor": 5
}

{
 "cells": [
  {
   "cell_type": "markdown",
   "id": "7bc1f812",
   "metadata": {},
   "source": [
    "1).\n",
    "Escape characters represent characters in string values \n",
    "that would otherwise be difficult or impossible to type into code\n",
    "we can use escape character by using backslash (e.g.-\\n)"
   ]
  },
  {
   "cell_type": "markdown",
   "id": "5c8f6996",
   "metadata": {},
   "source": [
    "2). \\n is a newline; \n",
    "\\t is a tab"
   ]
  },
  {
   "cell_type": "markdown",
   "id": "a05d0eeb",
   "metadata": {},
   "source": [
    "3).The \\\\ escape character will represent a backslash character."
   ]
  },
  {
   "cell_type": "markdown",
   "id": "e401ba83",
   "metadata": {},
   "source": [
    "4).we can't use single quote in Howl's because string will end at apostrophe and the single quote at end will be the beginning of other string which can cause an error"
   ]
  },
  {
   "cell_type": "markdown",
   "id": "8a1f3569",
   "metadata": {},
   "source": [
    "5). By using multiline strings "
   ]
  },
  {
   "cell_type": "markdown",
   "id": "8de6c502",
   "metadata": {},
   "source": [
    "6).\n",
    "'e'\n",
    "\n",
    "'Hello'\n",
    "\n",
    "'Hello'\n",
    "\n",
    "'lo world!"
   ]
  },
  {
   "cell_type": "markdown",
   "id": "3a4c7333",
   "metadata": {},
   "source": [
    "7).\n",
    "'HELLO'\n",
    "\n",
    "True\n",
    "\n",
    "'hello'"
   ]
  },
  {
   "cell_type": "markdown",
   "id": "cab7c52c",
   "metadata": {},
   "source": [
    "8).['Remember,', 'remember,', 'the', 'fifth', 'of', 'July.']'There-can-only-one.'"
   ]
  },
  {
   "cell_type": "markdown",
   "id": "02c23ed7",
   "metadata": {},
   "source": [
    "9).rjust(), ljust(), and center()"
   ]
  },
  {
   "cell_type": "markdown",
   "id": "8979c4da",
   "metadata": {},
   "source": [
    "10). by using the lstrip() and rstrip() methods "
   ]
  }
 ],
 "metadata": {
  "kernelspec": {
   "display_name": "Python 3 (ipykernel)",
   "language": "python",
   "name": "python3"
  },
  "language_info": {
   "codemirror_mode": {
    "name": "ipython",
    "version": 3
   },
   "file_extension": ".py",
   "mimetype": "text/x-python",
   "name": "python",
   "nbconvert_exporter": "python",
   "pygments_lexer": "ipython3",
   "version": "3.9.7"
  }
 },
 "nbformat": 4,
 "nbformat_minor": 5
}

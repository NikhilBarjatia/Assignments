{
 "cells": [
  {
   "cell_type": "markdown",
   "id": "57eafccd",
   "metadata": {},
   "source": [
    "1).The shutil.copy() function will copy a single file, while shutil.copytree() will copy an entire folder, along with all its contents."
   ]
  },
  {
   "cell_type": "markdown",
   "id": "53e0c82d",
   "metadata": {},
   "source": [
    "2).The shutil.move() function is used for renaming files, as well as moving them."
   ]
  },
  {
   "cell_type": "markdown",
   "id": "8cbb0438",
   "metadata": {},
   "source": [
    "3).The send2trash functions will move a file or folder to the recycle bin, while shutil functions will permanently delete files and folders."
   ]
  },
  {
   "cell_type": "markdown",
   "id": "0c90a70b",
   "metadata": {},
   "source": [
    "4)The zipfile.ZipFile() function is equivalent to the open() function; the first argument is the filename, and the second argument is the mode to open the ZIP file in (read, write, or append)"
   ]
  },
  {
   "cell_type": "code",
   "execution_count": null,
   "id": "933b9ff7",
   "metadata": {},
   "outputs": [],
   "source": [
    "5).\n",
    "import os\n",
    "import shutil\n",
    "for file in os.listdir(\"C:\\\\Users\\\\Nikhi\\\\Desktop\"):\n",
    "    print(file)\n",
    "    if file.endswith(\".docx\"):\n",
    "        shutil.copy(file,\"/Documents\\hello\")"
   ]
  }
 ],
 "metadata": {
  "kernelspec": {
   "display_name": "Python 3 (ipykernel)",
   "language": "python",
   "name": "python3"
  },
  "language_info": {
   "codemirror_mode": {
    "name": "ipython",
    "version": 3
   },
   "file_extension": ".py",
   "mimetype": "text/x-python",
   "name": "python",
   "nbconvert_exporter": "python",
   "pygments_lexer": "ipython3",
   "version": "3.9.7"
  }
 },
 "nbformat": 4,
 "nbformat_minor": 5
}

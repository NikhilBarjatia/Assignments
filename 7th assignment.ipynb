{
 "cells": [
  {
   "cell_type": "code",
   "execution_count": null,
   "id": "ec1a0ece",
   "metadata": {},
   "outputs": [],
   "source": [
    "#1). sum of array\n",
    "def sumofarray(*args):\n",
    "    sum_of_array=0\n",
    "    for i in args:\n",
    "        if type(i)== int or float:\n",
    "            sum_of_array=sum_of_array+i\n",
    "        else:\n",
    "            print(\"enter a valid data type object\")\n",
    "            break\n",
    "    return sum_of_array"
   ]
  },
  {
   "cell_type": "code",
   "execution_count": null,
   "id": "f95ba9bf",
   "metadata": {},
   "outputs": [],
   "source": [
    "sumofarray(4,5,6,7,8,9)"
   ]
  },
  {
   "cell_type": "code",
   "execution_count": null,
   "id": "08db989d",
   "metadata": {},
   "outputs": [],
   "source": [
    "#2).largest element in array\n",
    "\n",
    "def maxofarray(*args):\n",
    "    sum_of_array=0\n",
    "    sum_of_array=max(args)\n",
    "    return sum_of_array"
   ]
  },
  {
   "cell_type": "code",
   "execution_count": null,
   "id": "227b5e0e",
   "metadata": {},
   "outputs": [],
   "source": [
    "maxofarray(4,5,6,35,3453,645,7,7,5)"
   ]
  },
  {
   "cell_type": "code",
   "execution_count": null,
   "id": "c3c08c51",
   "metadata": {},
   "outputs": [],
   "source": [
    "#3). array rotation\n",
    "rotation=input(\"press L for left rotation and R for right rotation\").lower()\n",
    "d=int(input(\"set your step size\"))\n",
    "if rotation =='l': \n",
    "    def rotateArray(a,d):\n",
    "        temp = []\n",
    "        n=len(a)\n",
    "        for i in range(d,n):\n",
    "            temp.append(a[i])\n",
    "        i = 0\n",
    "        for i in range (0,d):\n",
    "            temp.append(a[i])\n",
    "        a=temp.copy()\n",
    "        return a\n",
    "else:\n",
    "    def rotateArray(a,d):\n",
    "        temp = []\n",
    "        n=len(a)\n",
    "        for i in range(n-d,n):\n",
    "            temp.append(a[i])\n",
    "        i = 0\n",
    "        for i in range (0,n-d):\n",
    "            temp.append(a[i])\n",
    "        a=temp.copy()\n",
    "        return a\n",
    "    \n",
    "\n",
    "arr = [1, 2, 3, 33, 5, 6, 7]\n",
    "print(\"Array after rotation is: \", end=' ')\n",
    "print(rotateArray(arr, d))"
   ]
  },
  {
   "cell_type": "code",
   "execution_count": 3,
   "id": "c094fe64",
   "metadata": {},
   "outputs": [
    {
     "name": "stdout",
     "output_type": "stream",
     "text": [
      "set your split size3\n",
      "Array after split is:  [4, 5, 6, 7, 1, 2, 3]\n"
     ]
    }
   ],
   "source": [
    "#4).split the array\n",
    "d=int(input(\"set your split size\"))\n",
    "def splitarray(a,d):\n",
    "    temp=[]\n",
    "    n=len(a)\n",
    "    for i in range(d,n):\n",
    "        temp.append(a[i])\n",
    "    i=0\n",
    "    for i in range(0,d):\n",
    "        temp.append(a[i])\n",
    "    return(temp)\n",
    "\n",
    "a = [1, 2, 3, 4, 5, 6, 7]\n",
    "print(\"Array after split is: \", end=' ')\n",
    "print(splitarray(a, d))\n",
    "\n"
   ]
  },
  {
   "cell_type": "code",
   "execution_count": 18,
   "id": "5b10c74b",
   "metadata": {},
   "outputs": [
    {
     "name": "stdout",
     "output_type": "stream",
     "text": [
      "not monotonic\n"
     ]
    }
   ],
   "source": [
    "#5) monotonic\n",
    "def monotonic(arr): \n",
    "        a=0\n",
    "        b=0 \n",
    "        for i in range(len(arr)-1): \n",
    "            if arr[i+1]>=arr[i]: \n",
    "                a+=1 \n",
    "            elif arr[i+1]<=arr[i]: \n",
    "                b+=1 \n",
    "        if 0 in [a,b]: \n",
    "            return \"monotonic\" \n",
    "        else: \n",
    "            return \"not monotonic\"\n",
    "arr = [1, 2, 3, 33, 5, 6, 7]\n",
    "print(monotonic(arr))"
   ]
  }
 ],
 "metadata": {
  "kernelspec": {
   "display_name": "Python 3 (ipykernel)",
   "language": "python",
   "name": "python3"
  },
  "language_info": {
   "codemirror_mode": {
    "name": "ipython",
    "version": 3
   },
   "file_extension": ".py",
   "mimetype": "text/x-python",
   "name": "python",
   "nbconvert_exporter": "python",
   "pygments_lexer": "ipython3",
   "version": "3.9.7"
  }
 },
 "nbformat": 4,
 "nbformat_minor": 5
}

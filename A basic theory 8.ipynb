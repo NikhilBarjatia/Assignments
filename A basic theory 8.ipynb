{
 "cells": [
  {
   "cell_type": "markdown",
   "id": "bf118092",
   "metadata": {},
   "source": [
    "1).NO,PyInputPlus is not a part of the Python Standard Library."
   ]
  },
  {
   "cell_type": "markdown",
   "id": "a8bb9339",
   "metadata": {},
   "source": [
    "2). pypi is alias of PyInputPlus. It is usesd so that you can enter a shorter name when calling the module's functions. "
   ]
  },
  {
   "cell_type": "markdown",
   "id": "e68147a0",
   "metadata": {},
   "source": [
    "3).inputInt() accepts an integer value while inputFloat() accepts integer/floating point value and returns float value."
   ]
  },
  {
   "cell_type": "markdown",
   "id": "597a2d05",
   "metadata": {},
   "source": [
    "4).By using pypi.inputint(min=0, max=100)"
   ]
  },
  {
   "cell_type": "markdown",
   "id": "5efcec7c",
   "metadata": {},
   "source": [
    "5).The allowRegexes and blockRegexes keyword arguments take a list of regular expression strings to determine what the PyInputPlus function will accept or reject as valid input."
   ]
  },
  {
   "cell_type": "markdown",
   "id": "cd0f0dd9",
   "metadata": {},
   "source": [
    "6). RetryLimitException "
   ]
  },
  {
   "cell_type": "markdown",
   "id": "87870a39",
   "metadata": {},
   "source": [
    "7).it will return default value \"hello\""
   ]
  }
 ],
 "metadata": {
  "kernelspec": {
   "display_name": "Python 3 (ipykernel)",
   "language": "python",
   "name": "python3"
  },
  "language_info": {
   "codemirror_mode": {
    "name": "ipython",
    "version": 3
   },
   "file_extension": ".py",
   "mimetype": "text/x-python",
   "name": "python",
   "nbconvert_exporter": "python",
   "pygments_lexer": "ipython3",
   "version": "3.9.7"
  }
 },
 "nbformat": 4,
 "nbformat_minor": 5
}

{
 "cells": [
  {
   "cell_type": "code",
   "execution_count": 7,
   "id": "1474f723",
   "metadata": {},
   "outputs": [
    {
     "name": "stdout",
     "output_type": "stream",
     "text": [
      "enter the no. 0\n"
     ]
    },
    {
     "data": {
      "text/plain": [
       "1"
      ]
     },
     "execution_count": 7,
     "metadata": {},
     "output_type": "execute_result"
    }
   ],
   "source": [
    "#1).factorial\n",
    "import math\n",
    "math.factorial(int(input(\"enter the no. \")))"
   ]
  },
  {
   "cell_type": "code",
   "execution_count": 9,
   "id": "1ca71487",
   "metadata": {},
   "outputs": [
    {
     "name": "stdout",
     "output_type": "stream",
     "text": [
      "enter the no.12\n",
      "12X0=0\n",
      "12X1=12\n",
      "12X2=24\n",
      "12X3=36\n",
      "12X4=48\n",
      "12X5=60\n",
      "12X6=72\n",
      "12X7=84\n",
      "12X8=96\n",
      "12X9=108\n",
      "12X10=120\n"
     ]
    }
   ],
   "source": [
    "#2).multiplication table\n",
    "table=int(input(\"enter the no.\"))\n",
    "for i in range(11):\n",
    "    print(f\"{table}X{i}={table*i}\")"
   ]
  },
  {
   "cell_type": "code",
   "execution_count": 19,
   "id": "696bed88",
   "metadata": {},
   "outputs": [
    {
     "name": "stdout",
     "output_type": "stream",
     "text": [
      "enter the length of fibonacci series10\n",
      "0\n",
      "1\n",
      "1\n",
      "2\n",
      "3\n",
      "5\n",
      "8\n",
      "13\n",
      "21\n",
      "34\n"
     ]
    }
   ],
   "source": [
    "#3).fibonacci series\n",
    "def fiboseries():\n",
    "    a=0\n",
    "    b=1\n",
    "    for i in range(int(input(\"enter the length of fibonacci series\"))):\n",
    "        print(a)\n",
    "        a,b=b,a+b\n",
    "fiboseries()"
   ]
  },
  {
   "cell_type": "code",
   "execution_count": null,
   "id": "99cf680c",
   "metadata": {},
   "outputs": [],
   "source": []
  },
  {
   "cell_type": "code",
   "execution_count": 21,
   "id": "f6700a6f",
   "metadata": {},
   "outputs": [
    {
     "name": "stdout",
     "output_type": "stream",
     "text": [
      "enter a no.=157\n",
      "this is not an armstrong no.\n"
     ]
    }
   ],
   "source": [
    "#4). check armstrong no.\n",
    "num=input(\"enter a no.=\")\n",
    "sum=0\n",
    "if int(num)<0:\n",
    "    print(\"enter a positive no.\")\n",
    "else:\n",
    "    for i in range(len(num)):\n",
    "        sum=sum+(int(num[i]))**len(num)\n",
    "if sum==int(num):\n",
    "    print(\"this is an armstrong no.\")\n",
    "else:\n",
    "    print(\"this is not an armstrong no.\")\n",
    "        "
   ]
  },
  {
   "cell_type": "code",
   "execution_count": 22,
   "id": "97af2c18",
   "metadata": {},
   "outputs": [
    {
     "name": "stdout",
     "output_type": "stream",
     "text": [
      "enter a no. from where you want to find armstrong no.\n",
      "1\n",
      "enter a no. as far as you want to find armstrong no.\n",
      "500\n",
      "1\n",
      "2\n",
      "3\n",
      "4\n",
      "5\n",
      "6\n",
      "7\n",
      "8\n",
      "9\n",
      "153\n",
      "370\n",
      "371\n",
      "407\n"
     ]
    }
   ],
   "source": [
    "#armstrong no. in an interval \n",
    "from_here=input(\"enter a no. from where you want to find armstrong no.\\n\")\n",
    "till_here=input(\"enter a no. as far as you want to find armstrong no.\\n\")\n",
    "\n",
    "for j in range(int(from_here),int(till_here)+1):\n",
    "    sum=0\n",
    "    if int(from_here)<0:\n",
    "        print(\"enter a positive no.\")\n",
    "    else:\n",
    "        for i in range(len(str(j))):\n",
    "            k=str(j)\n",
    "            sum=sum+(int(k[i]))**len(str(j))\n",
    "    if sum==j:\n",
    "        print(sum)"
   ]
  },
  {
   "cell_type": "code",
   "execution_count": 2,
   "id": "0a7bf815",
   "metadata": {},
   "outputs": [
    {
     "name": "stdout",
     "output_type": "stream",
     "text": [
      "enter the no.5\n",
      "the sum of first 5 natural no. is 15\n"
     ]
    }
   ],
   "source": [
    "#6).sum of natural no.\n",
    "num=int(input(\"enter the no.\"))\n",
    "sum=0\n",
    "if num<=0:\n",
    "    print(\"enter the positive no.\")\n",
    "else:\n",
    "    for i in range(num+1):\n",
    "        sum=sum+i\n",
    "print(f\"the sum of first {num} natural no. is {sum}\")\n",
    "        \n",
    "    "
   ]
  },
  {
   "cell_type": "code",
   "execution_count": null,
   "id": "492b7bfe",
   "metadata": {},
   "outputs": [],
   "source": [
    "\n",
    "\n"
   ]
  },
  {
   "cell_type": "code",
   "execution_count": null,
   "id": "a284391d",
   "metadata": {},
   "outputs": [],
   "source": []
  }
 ],
 "metadata": {
  "kernelspec": {
   "display_name": "Python 3 (ipykernel)",
   "language": "python",
   "name": "python3"
  },
  "language_info": {
   "codemirror_mode": {
    "name": "ipython",
    "version": 3
   },
   "file_extension": ".py",
   "mimetype": "text/x-python",
   "name": "python",
   "nbconvert_exporter": "python",
   "pygments_lexer": "ipython3",
   "version": "3.9.7"
  }
 },
 "nbformat": 4,
 "nbformat_minor": 5
}

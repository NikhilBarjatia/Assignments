{
 "cells": [
  {
   "cell_type": "code",
   "execution_count": null,
   "id": "94b6cbb0",
   "metadata": {},
   "outputs": [],
   "source": [
    "1).\n",
    "empty list\n"
   ]
  },
  {
   "cell_type": "code",
   "execution_count": null,
   "id": "b1b0acbc",
   "metadata": {},
   "outputs": [],
   "source": [
    "2).\n",
    "spam[2]=\"hello\""
   ]
  },
  {
   "cell_type": "code",
   "execution_count": null,
   "id": "b3b359f8",
   "metadata": {},
   "outputs": [],
   "source": [
    "3).\n",
    "\"d\""
   ]
  },
  {
   "cell_type": "code",
   "execution_count": null,
   "id": "b5d9b704",
   "metadata": {},
   "outputs": [],
   "source": [
    "4).\n",
    "\"d\""
   ]
  },
  {
   "cell_type": "code",
   "execution_count": 7,
   "id": "ac354ef3",
   "metadata": {},
   "outputs": [
    {
     "data": {
      "text/plain": [
       "[1, 2]"
      ]
     },
     "execution_count": 7,
     "metadata": {},
     "output_type": "execute_result"
    }
   ],
   "source": [
    "5).\n",
    "[\"a\".\"b\"]"
   ]
  },
  {
   "cell_type": "code",
   "execution_count": 12,
   "id": "14369d88",
   "metadata": {},
   "outputs": [
    {
     "data": {
      "text/plain": [
       "0"
      ]
     },
     "execution_count": 12,
     "metadata": {},
     "output_type": "execute_result"
    }
   ],
   "source": [
    "6).\n",
    "1"
   ]
  },
  {
   "cell_type": "code",
   "execution_count": null,
   "id": "81216494",
   "metadata": {},
   "outputs": [],
   "source": [
    "7).\n",
    "last value would be 99 in bacon list\n",
    "bacon =[3.14,\"cat\",11,\"cat\",True,99]"
   ]
  },
  {
   "cell_type": "code",
   "execution_count": null,
   "id": "a342cf15",
   "metadata": {},
   "outputs": [],
   "source": [
    "8).\n",
    "it will remove first cat\n",
    "bacon =[3.14,11,\"cat\",True,99]"
   ]
  },
  {
   "cell_type": "code",
   "execution_count": null,
   "id": "2ed0987f",
   "metadata": {},
   "outputs": [],
   "source": [
    "9).\n",
    "The operator for list concatenation is +, \n",
    "while the operator for replication is *."
   ]
  },
  {
   "cell_type": "code",
   "execution_count": null,
   "id": "cf7787f4",
   "metadata": {},
   "outputs": [],
   "source": [
    "10).\n",
    "While append() will add values only to the end of a list, \n",
    "insert() can add them anywhere in the list."
   ]
  },
  {
   "cell_type": "code",
   "execution_count": null,
   "id": "1385d840",
   "metadata": {},
   "outputs": [],
   "source": [
    "11).\n",
    "The del statement and the remove() list method are two ways\n",
    "to remove values from a list."
   ]
  },
  {
   "cell_type": "code",
   "execution_count": 17,
   "id": "d5bcb045",
   "metadata": {},
   "outputs": [],
   "source": [
    "12).\n",
    "Both lists and strings can be passed to len(), \n",
    "have indexes and slices, \n",
    "be used in for loops, be concatenated or \n",
    "replicated, and be used with the in and not in"
   ]
  },
  {
   "cell_type": "code",
   "execution_count": 18,
   "id": "b84fd1db",
   "metadata": {},
   "outputs": [],
   "source": [
    "13).\n",
    "Lists are mutable; they can have values added, removed, or changed. \n",
    "Tuples are immutable; they cannot be changed at all. \n",
    "Also, tuples are written using parentheses, ( and ), \n",
    "while lists use the square brackets, [ and ]."
   ]
  },
  {
   "cell_type": "code",
   "execution_count": 21,
   "id": "576f5d8b",
   "metadata": {},
   "outputs": [
    {
     "data": {
      "text/plain": [
       "42"
      ]
     },
     "execution_count": 21,
     "metadata": {},
     "output_type": "execute_result"
    }
   ],
   "source": [
    "14).\n",
    "(42)"
   ]
  },
  {
   "cell_type": "code",
   "execution_count": null,
   "id": "a09816f9",
   "metadata": {},
   "outputs": [],
   "source": [
    "15).\n",
    "The tuple() and list() functions, respectively"
   ]
  },
  {
   "cell_type": "code",
   "execution_count": 22,
   "id": "73b28001",
   "metadata": {},
   "outputs": [],
   "source": [
    "16).\n",
    "They contain references to list values."
   ]
  },
  {
   "cell_type": "code",
   "execution_count": null,
   "id": "85abea9f",
   "metadata": {},
   "outputs": [],
   "source": [
    "17).\n",
    "The copy.copy() function will do a shallow copy of a list, \n",
    "while the copy.deepcopy() function will do a deep copy of a list. \n",
    "That is, only copy.deepcopy() will duplicate any lists inside the list."
   ]
  }
 ],
 "metadata": {
  "kernelspec": {
   "display_name": "Python 3 (ipykernel)",
   "language": "python",
   "name": "python3"
  },
  "language_info": {
   "codemirror_mode": {
    "name": "ipython",
    "version": 3
   },
   "file_extension": ".py",
   "mimetype": "text/x-python",
   "name": "python",
   "nbconvert_exporter": "python",
   "pygments_lexer": "ipython3",
   "version": "3.9.7"
  }
 },
 "nbformat": 4,
 "nbformat_minor": 5
}

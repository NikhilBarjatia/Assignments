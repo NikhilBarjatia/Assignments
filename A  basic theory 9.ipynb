{
 "cells": [
  {
   "cell_type": "markdown",
   "id": "aa6b496f",
   "metadata": {},
   "source": [
    "1).The relative path is the path to some file with respect to your current working directory (PWD). \n",
    "For example: Absolute path: C:/users/admin/docs/stuff.txt. If my PWD is C:/users/admin/ , then the relative path to stuff.txt would be: docs/stuff.txt. Note, PWD + relative path = absolute path."
   ]
  },
  {
   "cell_type": "markdown",
   "id": "2c65978e",
   "metadata": {},
   "source": [
    "2).An absolute path is a path that contains the entire path to the file or directory that you need to access. This path will begin at the home directory of your computer (with the root folder, such as / or C:\\) and will end with the file or directory that you wish to access. Absolute paths ensure that Python can find the exact file on your computer."
   ]
  },
  {
   "cell_type": "markdown",
   "id": "cc61e384",
   "metadata": {},
   "source": [
    "3).getcwd() :CWD stands for Current Working Directory. This function allows you to see what your current working directory is. \n",
    "chdir(\"path-to-dir\") : Short for Change Directory, this function allows you to set the current working directory to a path of your choice."
   ]
  },
  {
   "cell_type": "markdown",
   "id": "1e121401",
   "metadata": {},
   "source": [
    "4).The . is the current directory, while .. signifies the parent directory. "
   ]
  },
  {
   "cell_type": "markdown",
   "id": "fb80b112",
   "metadata": {},
   "source": [
    "5).C:\\bacon\\eggs is the dir name, while spam.txt is the base name."
   ]
  },
  {
   "cell_type": "markdown",
   "id": "efd74421",
   "metadata": {},
   "source": [
    "6).The string 'r' for read mode, 'w' for write mode, and 'a' for append mode"
   ]
  },
  {
   "cell_type": "markdown",
   "id": "c5adb418",
   "metadata": {},
   "source": [
    "7).An existing file opened in write mode is erased and completely overwritten."
   ]
  },
  {
   "cell_type": "markdown",
   "id": "851f6963",
   "metadata": {},
   "source": [
    "8).The read() method returns the file's entire contents as a single string value. The readlines() method returns a list of strings, where each string is a line from the file's contents."
   ]
  },
  {
   "cell_type": "markdown",
   "id": "077ac30c",
   "metadata": {},
   "source": [
    "9).A shelf value resembles a dictionary value; it has keys and values, along with keys() and values() methods that work similarly to the dictionary methods of the same names."
   ]
  },
  {
   "cell_type": "code",
   "execution_count": null,
   "id": "7603a5dd",
   "metadata": {},
   "outputs": [],
   "source": []
  }
 ],
 "metadata": {
  "kernelspec": {
   "display_name": "Python 3 (ipykernel)",
   "language": "python",
   "name": "python3"
  },
  "language_info": {
   "codemirror_mode": {
    "name": "ipython",
    "version": 3
   },
   "file_extension": ".py",
   "mimetype": "text/x-python",
   "name": "python",
   "nbconvert_exporter": "python",
   "pygments_lexer": "ipython3",
   "version": "3.9.7"
  }
 },
 "nbformat": 4,
 "nbformat_minor": 5
}

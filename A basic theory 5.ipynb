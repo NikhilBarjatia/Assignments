{
 "cells": [
  {
   "cell_type": "markdown",
   "id": "88f3247a",
   "metadata": {},
   "source": [
    "1). {}"
   ]
  },
  {
   "cell_type": "markdown",
   "id": "b5e34bb5",
   "metadata": {},
   "source": [
    "2).\n",
    "{\"foo\": 42}"
   ]
  },
  {
   "cell_type": "markdown",
   "id": "cf8b92d0",
   "metadata": {},
   "source": [
    "3).\n",
    "list items  are ordered while the items stored in a dictionary are unordered ."
   ]
  },
  {
   "cell_type": "markdown",
   "id": "dd81bbd0",
   "metadata": {},
   "source": [
    "4). KeyError error"
   ]
  },
  {
   "cell_type": "markdown",
   "id": "fd0413f2",
   "metadata": {},
   "source": [
    "5).There is no difference."
   ]
  },
  {
   "cell_type": "markdown",
   "id": "dae01e50",
   "metadata": {},
   "source": [
    "6).'cat' in spam checks whether there is a 'cat' key in the dictionary, \n",
    "while 'cat' in spam.values() checks whetherthere is a value 'cat' for\n",
    "one of the keys in spam."
   ]
  },
  {
   "cell_type": "markdown",
   "id": "9f6e712d",
   "metadata": {},
   "source": [
    "7).spam.setdefault('color', 'black')"
   ]
  },
  {
   "cell_type": "markdown",
   "id": "e3b23db1",
   "metadata": {},
   "source": [
    "8).pprint.pprint()"
   ]
  }
 ],
 "metadata": {
  "kernelspec": {
   "display_name": "Python 3 (ipykernel)",
   "language": "python",
   "name": "python3"
  },
  "language_info": {
   "codemirror_mode": {
    "name": "ipython",
    "version": 3
   },
   "file_extension": ".py",
   "mimetype": "text/x-python",
   "name": "python",
   "nbconvert_exporter": "python",
   "pygments_lexer": "ipython3",
   "version": "3.9.7"
  }
 },
 "nbformat": 4,
 "nbformat_minor": 5
}

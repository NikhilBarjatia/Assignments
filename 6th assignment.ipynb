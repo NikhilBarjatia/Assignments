{
 "cells": [
  {
   "cell_type": "code",
   "execution_count": 6,
   "id": "3fb3fd95",
   "metadata": {},
   "outputs": [
    {
     "name": "stdout",
     "output_type": "stream",
     "text": [
      "enter the no. of terms required10\n",
      "0\n",
      "1\n",
      "1\n",
      "2\n",
      "3\n",
      "5\n",
      "8\n",
      "13\n",
      "21\n",
      "34\n"
     ]
    }
   ],
   "source": [
    "#1). fibo recursion\n",
    "n1=int(input(\"enter the no. of terms required\"))\n",
    "def recur_fibo(n):\n",
    "    if n<=1:\n",
    "        return n\n",
    "    else:\n",
    "        return(recur_fibo(n-1)+recur_fibo(n-2))\n",
    "for i in range(n1):\n",
    "    print(recur_fibo(i))\n"
   ]
  },
  {
   "cell_type": "code",
   "execution_count": null,
   "id": "b169521e",
   "metadata": {},
   "outputs": [],
   "source": [
    "#2).factorial recursion\n",
    "num=int(input(\"enter a number\"))\n",
    "def fact(num):\n",
    "    if num==1 or num==0:\n",
    "        return 1\n",
    "    else:\n",
    "        return num*fact(num-1)\n",
    "print(f\"the factorial of {num} is {fact(num)}\")\n"
   ]
  },
  {
   "cell_type": "code",
   "execution_count": null,
   "id": "c5155b4c",
   "metadata": {},
   "outputs": [],
   "source": [
    "#3). BMI calculator\n",
    "height = input(\"enter your height in m: \")\n",
    "weight = input(\"enter your weight in kg: \")\n",
    "a=(float(weight))/(float(height))**2\n",
    "print(\"your BMI is \",a)"
   ]
  },
  {
   "cell_type": "code",
   "execution_count": null,
   "id": "e83c6656",
   "metadata": {},
   "outputs": [],
   "source": [
    "#4). natural logarithm\n",
    "import math\n",
    "a=float(input(\"enter a number \"))\n",
    "print(f\"the logarithm of {a} is\",math.log(a))\n",
    "\n"
   ]
  },
  {
   "cell_type": "code",
   "execution_count": null,
   "id": "b770d4d7",
   "metadata": {},
   "outputs": [],
   "source": [
    "### 5). sum of cubes\n",
    "a=int(input(\"enter the no. till you want to find sum of cube  \"))\n",
    "add=0\n",
    "for i in range(1,a+1):\n",
    "        x=i**3\n",
    "        add=add+x\n",
    "print('sum of cube',  add)"
   ]
  },
  {
   "cell_type": "code",
   "execution_count": null,
   "id": "28d58bb0",
   "metadata": {},
   "outputs": [],
   "source": []
  }
 ],
 "metadata": {
  "kernelspec": {
   "display_name": "Python 3 (ipykernel)",
   "language": "python",
   "name": "python3"
  },
  "language_info": {
   "codemirror_mode": {
    "name": "ipython",
    "version": 3
   },
   "file_extension": ".py",
   "mimetype": "text/x-python",
   "name": "python",
   "nbconvert_exporter": "python",
   "pygments_lexer": "ipython3",
   "version": "3.9.7"
  }
 },
 "nbformat": 4,
 "nbformat_minor": 5
}
